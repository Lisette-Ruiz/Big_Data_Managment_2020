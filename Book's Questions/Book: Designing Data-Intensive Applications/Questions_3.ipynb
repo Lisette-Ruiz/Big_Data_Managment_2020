{
 "cells": [
  {
   "cell_type": "markdown",
   "metadata": {},
   "source": [
    "#  - Designing Data-Intensive Applications-\n",
    "## Chapter 1."
   ]
  },
  {
   "cell_type": "markdown",
   "metadata": {},
   "source": [
    "## • Do a fault and a failure refer to the same thing? \n",
    "### Please, justify your answer."
   ]
  },
  {
   "cell_type": "markdown",
   "metadata": {},
   "source": [
    "- No, they do not. A fault is usually defined as one com‐ponent of the system deviating from its spec, whereas a failure is when the system as a whole stops providing the required service to the user."
   ]
  },
  {
   "cell_type": "markdown",
   "metadata": {},
   "source": [
    "## • According to chapter 1, what would be the first usually response when you got hardware faults?"
   ]
  },
  {
   "cell_type": "markdown",
   "metadata": {},
   "source": [
    "- Our first response is usually to add redundancy to the individual hardware compo‐nents in order to reduce the failure rate of the system.\n",
    "\n",
    "- When one component dies, the redundant component can take its place while the broken com‐ponent is replaced."
   ]
  },
  {
   "cell_type": "markdown",
   "metadata": {},
   "source": [
    "## • A service that the system depends on that slows down, becomes unresponsive, or starts returning corrupted responses is a good example of a: \n",
    "### ______________ Problem."
   ]
  },
  {
   "cell_type": "markdown",
   "metadata": {},
   "source": [
    "- Software Problem."
   ]
  },
  {
   "cell_type": "markdown",
   "metadata": {},
   "source": [
    "## • What could be alternatives  to solve a software fault?\n",
    "### (Take into account there is no quick solution to the problem of systematic faults in software)."
   ]
  },
  {
   "cell_type": "markdown",
   "metadata": {},
   "source": [
    "- Carefully thinking about assumptions and interactions in the system.\n",
    "- Thorough testing; process isolation; allowing processes to crash and restart.\n",
    "\n",
    "- Measuring, monitoring, and analyzing system behavior in production."
   ]
  },
  {
   "cell_type": "markdown",
   "metadata": {},
   "source": [
    "## • Property name which let you process much larger volumes of data than you did before."
   ]
  },
  {
   "cell_type": "markdown",
   "metadata": {},
   "source": [
    "- Scalability"
   ]
  },
  {
   "cell_type": "markdown",
   "metadata": {},
   "source": [
    "## • What does the following statement mean: \"Systems are elastic\"."
   ]
  },
  {
   "cell_type": "markdown",
   "metadata": {},
   "source": [
    "- It means that they can automatically add computing resour‐ ces when they detect a load increase, whereas other systems are scaled manually (a human analyzes the capacity and decides to add more machines to the system)."
   ]
  },
  {
   "cell_type": "markdown",
   "metadata": {},
   "source": [
    "## • Which are the three design principles for software systems?"
   ]
  },
  {
   "cell_type": "markdown",
   "metadata": {},
   "source": [
    "### Operability\n",
    "\n",
    "-Make it easy for operations teams to keep the system running smoothly.\n",
    "\n",
    "### Simplicity\n",
    "\n",
    "-Make it easy for new engineers to understand the system, by removing as much complexity as possible from the system.\n",
    "\n",
    "### Evolvability\n",
    "\n",
    "-Make it easy for engineers to make changes to the system in the future, adapting it for unanticipated use cases as requirements change. Also known as extensibil‐ity, modifiability, or plasticity."
   ]
  },
  {
   "cell_type": "markdown",
   "metadata": {},
   "source": [
    "## • Mentione some of the nonfunctional requirements."
   ]
  },
  {
   "cell_type": "markdown",
   "metadata": {},
   "source": [
    "Better known as general properties : \n",
    "- Security.\n",
    "- Reliability.\n",
    "- Compliance.\n",
    "- Scalability.\n",
    "- Compatibility, and maintainability."
   ]
  }
 ],
 "metadata": {
  "kernelspec": {
   "display_name": "Python 3",
   "language": "python",
   "name": "python3"
  },
  "language_info": {
   "codemirror_mode": {
    "name": "ipython",
    "version": 3
   },
   "file_extension": ".py",
   "mimetype": "text/x-python",
   "name": "python",
   "nbconvert_exporter": "python",
   "pygments_lexer": "ipython3",
   "version": "3.7.4"
  }
 },
 "nbformat": 4,
 "nbformat_minor": 4
}
