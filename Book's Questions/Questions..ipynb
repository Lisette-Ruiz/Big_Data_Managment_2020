{
 "cells": [
  {
   "cell_type": "markdown",
   "metadata": {},
   "source": [
    "# Big Data Principles and Best Practices of Scalable Realtime Data Systems"
   ]
  },
  {
   "cell_type": "markdown",
   "metadata": {},
   "source": [
    "### CAPITULO 1"
   ]
  },
  {
   "cell_type": "markdown",
   "metadata": {},
   "source": [
    "### - Mention three important statements that Data systems makes:\n",
    "1- memorize information\n",
    "2- regurgitate information\n",
    "3- combine bits and pieces together to produce their answers."
   ]
  },
  {
   "cell_type": "markdown",
   "metadata": {},
   "source": [
    "### - Cap 1 mention that \"Data\" is known as information from which everything is delivered.  What does the previous affirmation mean?\n",
    "\n",
    "- That data systems answer questions by looking at the 'entire' dataset."
   ]
  },
  {
   "cell_type": "markdown",
   "metadata": {},
   "source": [
    "### - How the approach of \"using multiple databases servers and distributing the table on all servers\" is known?\n",
    "- sharding // horizontal partitioning."
   ]
  },
  {
   "cell_type": "markdown",
   "metadata": {},
   "source": [
    "### - Name of the intensive complexity operation they reclaims in bulk when there is taken up space in the CPU:\n",
    "\n",
    "- Comparation.\n"
   ]
  },
  {
   "cell_type": "markdown",
   "metadata": {},
   "source": [
    "### CAPITULO 2"
   ]
  },
  {
   "cell_type": "markdown",
   "metadata": {},
   "source": [
    "### -The main idea of (___________) is to build Big Data systems as a series of layers that satisfy a subset of properties and are based on the functionality provided by the layers beneath them.\n",
    "\n",
    "- Lamda Architecture."
   ]
  },
  {
   "cell_type": "markdown",
   "metadata": {},
   "source": [
    "### -Name of the process that allows you to partition your data so that the function only accesses data relevant to it's computation\n",
    "\n",
    "-Vertical Partitioning."
   ]
  },
  {
   "cell_type": "markdown",
   "metadata": {},
   "source": [
    "### -Property name that allows you to see your data as it is (raw), and helps you ask many more questions in order to answer them.\n",
    "\n",
    "-Rawness"
   ]
  },
  {
   "cell_type": "markdown",
   "metadata": {},
   "source": [
    "### - What does the book mean when it says the data is eternally true?\n",
    "-That the data, once written and recorded, is true in perpetuity due to immutability. (e.g. dates of birth are always true due to the specific date)."
   ]
  },
  {
   "cell_type": "code",
   "execution_count": 3,
   "metadata": {},
   "outputs": [
    {
     "data": {
      "text/plain": [
       "int"
      ]
     },
     "execution_count": 3,
     "metadata": {},
     "output_type": "execute_result"
    }
   ],
   "source": [
    "lis = 1\n",
    "type(lis)"
   ]
  },
  {
   "cell_type": "code",
   "execution_count": null,
   "metadata": {},
   "outputs": [],
   "source": []
  }
 ],
 "metadata": {
  "kernelspec": {
   "display_name": "Python 3",
   "language": "python",
   "name": "python3"
  },
  "language_info": {
   "codemirror_mode": {
    "name": "ipython",
    "version": 3
   },
   "file_extension": ".py",
   "mimetype": "text/x-python",
   "name": "python",
   "nbconvert_exporter": "python",
   "pygments_lexer": "ipython3",
   "version": "3.7.4"
  }
 },
 "nbformat": 4,
 "nbformat_minor": 4
}
