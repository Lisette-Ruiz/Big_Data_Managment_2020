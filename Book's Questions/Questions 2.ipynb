{
 "cells": [
  {
   "cell_type": "markdown",
   "metadata": {},
   "source": [
    "# CAPITER 3."
   ]
  },
  {
   "cell_type": "markdown",
   "metadata": {},
   "source": [
    "### -Knowing that workhorses of Thrift are the structure definitions and union type of an scheme format, list instances of what \"workhorses\" are made of."
   ]
  },
  {
   "cell_type": "markdown",
   "metadata": {},
   "source": [
    "■ Primitive data types (strings, integers, longs, and doubles).\n",
    "\n",
    "■ Collections of other types (lists, maps, and sets).\n"
   ]
  },
  {
   "cell_type": "markdown",
   "metadata": {},
   "source": [
    "### - What is a DataUnit made of and how does it work?\n"
   ]
  },
  {
   "cell_type": "markdown",
   "metadata": {},
   "source": [
    "■  It is made up protocol-specific control information and user data. Each DataUnit is paired with its metadata, which is kept in a Pedigree struct."
   ]
  },
  {
   "cell_type": "markdown",
   "metadata": {},
   "source": [
    "### -Remembering that the \"Pedigree\" struct is a tool designed to assist researchers in the analysis of genealogical data. What kind of data does it store?\n",
    "\n"
   ]
  },
  {
   "cell_type": "markdown",
   "metadata": {},
   "source": [
    "■  The pedigree struct contains the timestamp for the information, but could also potentially contain debugging information or the source of the data"
   ]
  },
  {
   "cell_type": "markdown",
   "metadata": {},
   "source": [
    "### -What are some of the limitations of serialization frameworks?"
   ]
  },
  {
   "cell_type": "markdown",
   "metadata": {},
   "source": [
    "■  Serialization frameworks only verify that all required fields are present and are of the expected type. They can't verify richer properties like \"Ages shouldn't be negative\" or \"True timestamps shouldn't be in the future.\""
   ]
  },
  {
   "cell_type": "markdown",
   "metadata": {},
   "source": [
    "# CAPITER 4"
   ]
  },
  {
   "cell_type": "markdown",
   "metadata": {},
   "source": [
    "\n",
    "### -The master dataset is typically too large to exist on a single server, so what should you consider before working on it?"
   ]
  },
  {
   "cell_type": "markdown",
   "metadata": {},
   "source": [
    "■  I must choose how I’ll distribute the data across multiple machines. \n",
    "\n",
    "■ it's vital to devise your storage strategy with your usage patterns in mind since the way you  store the master dataset will impact how you consume it.\n"
   ]
  },
  {
   "cell_type": "markdown",
   "metadata": {},
   "source": [
    "###  - What are some of the recommendations described in chapter 4 to specify master data of key value type?\n"
   ]
  },
  {
   "cell_type": "markdown",
   "metadata": {},
   "source": [
    "\n",
    "■  The first thing you should find out is the risk of being the keys and the specific risks of being the values.\n",
    "\n",
    "-----------> Values -> piece of data you want to have.\n",
    "\n",
    "-----------> Key -> There is no natural key in the data model. The only really viable idea is to generate a UUID to use as a key."
   ]
  },
  {
   "cell_type": "markdown",
   "metadata": {},
   "source": [
    "### -What are the consequences that a file cannot be modified after creating it and what can you do about it?\n",
    "\n"
   ]
  },
  {
   "cell_type": "markdown",
   "metadata": {},
   "source": [
    "■  Consequence: With unmodifiable files you cannot store the entire master data set in one file.\n",
    "\n",
    "■ Alternative: What you can do instead is distribute the master dataset among many files and store"
   ]
  },
  {
   "cell_type": "markdown",
   "metadata": {},
   "source": [
    "### -Name of the process that contributes greatly to making the batch layer more efficient because it allows you to partition your data so that a function only accesses data relevant to its calculation.\n"
   ]
  },
  {
   "cell_type": "markdown",
   "metadata": {},
   "source": [
    "■  Vertical partitioning"
   ]
  },
  {
   "cell_type": "code",
   "execution_count": null,
   "metadata": {},
   "outputs": [],
   "source": []
  }
 ],
 "metadata": {
  "kernelspec": {
   "display_name": "Python 3",
   "language": "python",
   "name": "python3"
  },
  "language_info": {
   "codemirror_mode": {
    "name": "ipython",
    "version": 3
   },
   "file_extension": ".py",
   "mimetype": "text/x-python",
   "name": "python",
   "nbconvert_exporter": "python",
   "pygments_lexer": "ipython3",
   "version": "3.7.4"
  }
 },
 "nbformat": 4,
 "nbformat_minor": 4
}
